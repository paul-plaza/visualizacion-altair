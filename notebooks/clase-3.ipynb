{
 "cells": [
  {
   "cell_type": "markdown",
   "metadata": {
    "azdata_cell_guid": "c490d73e-22ab-41d3-af37-f1cb9c89e405"
   },
   "source": [
    "# Gráficos complejos\n",
    "\n",
    "En esta clase vamos a aprender a hacer gráficos complejos con Altair. Gráficos compuestos por más de una capa, visualizaciones compuestas por más de un gráfico y exploraremos como crear gráficos interactivos. "
   ]
  },
  {
   "cell_type": "markdown",
   "metadata": {
    "azdata_cell_guid": "abbb9215-97d4-4abb-8273-b819c518d4bf"
   },
   "source": [
    "**Información importante**\n",
    "\n",
    "* Documentación oficial de Altair: https://altair-viz.github.io/index.html\n",
    "\n",
    "* Espacio de trabajo de Notion de la clase: https://bit.ly/tacosdedatos-notion\n",
    "\n",
    "* Donde encontrar este _binder_: https://bit.ly.com/dataviz-demo\n"
   ]
  },
  {
   "cell_type": "markdown",
   "metadata": {
    "azdata_cell_guid": "0fda322b-9720-486f-afc3-cc12f7c1c276"
   },
   "source": [
    "## Por explorar hoy\n",
    "* Gráficos compuestos (capas y concatenaciones)\n",
    "* Facetas\n",
    "* Tooltips\n",
    "* Interactividad"
   ]
  },
  {
   "cell_type": "markdown",
   "metadata": {
    "azdata_cell_guid": "bb97d80a-bd0b-4736-8cf4-f9c40f13f4df"
   },
   "source": [
    "* ejemplo 1: https://altair-viz.github.io/gallery/airports_count.html \n",
    "* ejemplo 2: https://altair-viz.github.io/gallery/selection_histogram.html "
   ]
  },
  {
   "cell_type": "code",
   "execution_count": 1,
   "metadata": {
    "azdata_cell_guid": "4175c9c3-13e8-4985-b863-f5a29aab040f"
   },
   "outputs": [],
   "source": [
    "import altair as alt\n",
    "import pandas as pd \n",
    "from vega_datasets import data as vega_data\n",
    "data = vega_data.gapminder()"
   ]
  },
  {
   "cell_type": "code",
   "execution_count": 2,
   "metadata": {
    "azdata_cell_guid": "9153e792-eb67-4f91-942f-0e26ebb03ef7"
   },
   "outputs": [],
   "source": [
    "mi_pais = 'India'\n",
    "segundo_pais = 'Mexico'"
   ]
  },
  {
   "cell_type": "code",
   "execution_count": 3,
   "metadata": {
    "azdata_cell_guid": "e7dd0bee-f511-4129-bc90-2354b8b01b64"
   },
   "outputs": [
    {
     "data": {
      "text/html": [
       "<div>\n",
       "<style scoped>\n",
       "    .dataframe tbody tr th:only-of-type {\n",
       "        vertical-align: middle;\n",
       "    }\n",
       "\n",
       "    .dataframe tbody tr th {\n",
       "        vertical-align: top;\n",
       "    }\n",
       "\n",
       "    .dataframe thead th {\n",
       "        text-align: right;\n",
       "    }\n",
       "</style>\n",
       "<table border=\"1\" class=\"dataframe\">\n",
       "  <thead>\n",
       "    <tr style=\"text-align: right;\">\n",
       "      <th></th>\n",
       "      <th>year</th>\n",
       "      <th>country</th>\n",
       "      <th>cluster</th>\n",
       "      <th>pop</th>\n",
       "      <th>life_expect</th>\n",
       "      <th>fertility</th>\n",
       "    </tr>\n",
       "  </thead>\n",
       "  <tbody>\n",
       "    <tr>\n",
       "      <th>341</th>\n",
       "      <td>1955</td>\n",
       "      <td>India</td>\n",
       "      <td>0</td>\n",
       "      <td>393000000</td>\n",
       "      <td>40.249</td>\n",
       "      <td>5.8961</td>\n",
       "    </tr>\n",
       "    <tr>\n",
       "      <th>342</th>\n",
       "      <td>1960</td>\n",
       "      <td>India</td>\n",
       "      <td>0</td>\n",
       "      <td>434000000</td>\n",
       "      <td>43.605</td>\n",
       "      <td>5.8216</td>\n",
       "    </tr>\n",
       "    <tr>\n",
       "      <th>343</th>\n",
       "      <td>1965</td>\n",
       "      <td>India</td>\n",
       "      <td>0</td>\n",
       "      <td>485000000</td>\n",
       "      <td>47.193</td>\n",
       "      <td>5.6058</td>\n",
       "    </tr>\n",
       "    <tr>\n",
       "      <th>344</th>\n",
       "      <td>1970</td>\n",
       "      <td>India</td>\n",
       "      <td>0</td>\n",
       "      <td>541000000</td>\n",
       "      <td>50.651</td>\n",
       "      <td>5.2640</td>\n",
       "    </tr>\n",
       "    <tr>\n",
       "      <th>345</th>\n",
       "      <td>1975</td>\n",
       "      <td>India</td>\n",
       "      <td>0</td>\n",
       "      <td>607000000</td>\n",
       "      <td>54.208</td>\n",
       "      <td>4.8888</td>\n",
       "    </tr>\n",
       "    <tr>\n",
       "      <th>346</th>\n",
       "      <td>1980</td>\n",
       "      <td>India</td>\n",
       "      <td>0</td>\n",
       "      <td>679000000</td>\n",
       "      <td>56.596</td>\n",
       "      <td>4.4975</td>\n",
       "    </tr>\n",
       "    <tr>\n",
       "      <th>347</th>\n",
       "      <td>1985</td>\n",
       "      <td>India</td>\n",
       "      <td>0</td>\n",
       "      <td>755000000</td>\n",
       "      <td>58.553</td>\n",
       "      <td>4.1500</td>\n",
       "    </tr>\n",
       "    <tr>\n",
       "      <th>348</th>\n",
       "      <td>1990</td>\n",
       "      <td>India</td>\n",
       "      <td>0</td>\n",
       "      <td>839000000</td>\n",
       "      <td>60.223</td>\n",
       "      <td>3.8648</td>\n",
       "    </tr>\n",
       "    <tr>\n",
       "      <th>349</th>\n",
       "      <td>1995</td>\n",
       "      <td>India</td>\n",
       "      <td>0</td>\n",
       "      <td>927000000</td>\n",
       "      <td>61.765</td>\n",
       "      <td>3.4551</td>\n",
       "    </tr>\n",
       "    <tr>\n",
       "      <th>350</th>\n",
       "      <td>2000</td>\n",
       "      <td>India</td>\n",
       "      <td>0</td>\n",
       "      <td>1007702000</td>\n",
       "      <td>62.879</td>\n",
       "      <td>3.1132</td>\n",
       "    </tr>\n",
       "    <tr>\n",
       "      <th>351</th>\n",
       "      <td>2005</td>\n",
       "      <td>India</td>\n",
       "      <td>0</td>\n",
       "      <td>1080264388</td>\n",
       "      <td>64.698</td>\n",
       "      <td>2.8073</td>\n",
       "    </tr>\n",
       "  </tbody>\n",
       "</table>\n",
       "</div>"
      ],
      "text/plain": [
       "     year country  cluster         pop  life_expect  fertility\n",
       "341  1955   India        0   393000000       40.249     5.8961\n",
       "342  1960   India        0   434000000       43.605     5.8216\n",
       "343  1965   India        0   485000000       47.193     5.6058\n",
       "344  1970   India        0   541000000       50.651     5.2640\n",
       "345  1975   India        0   607000000       54.208     4.8888\n",
       "346  1980   India        0   679000000       56.596     4.4975\n",
       "347  1985   India        0   755000000       58.553     4.1500\n",
       "348  1990   India        0   839000000       60.223     3.8648\n",
       "349  1995   India        0   927000000       61.765     3.4551\n",
       "350  2000   India        0  1007702000       62.879     3.1132\n",
       "351  2005   India        0  1080264388       64.698     2.8073"
      ]
     },
     "execution_count": 3,
     "metadata": {},
     "output_type": "execute_result"
    }
   ],
   "source": [
    "datos_de_mi_pais = data[data['country'] == mi_pais]\n",
    "datos_de_mi_pais"
   ]
  },
  {
   "cell_type": "code",
   "execution_count": 4,
   "metadata": {
    "azdata_cell_guid": "ebdb190c-d3bc-4938-8ceb-394525e5d2e1"
   },
   "outputs": [
    {
     "data": {
      "text/html": [
       "<div>\n",
       "<style scoped>\n",
       "    .dataframe tbody tr th:only-of-type {\n",
       "        vertical-align: middle;\n",
       "    }\n",
       "\n",
       "    .dataframe tbody tr th {\n",
       "        vertical-align: top;\n",
       "    }\n",
       "\n",
       "    .dataframe thead th {\n",
       "        text-align: right;\n",
       "    }\n",
       "</style>\n",
       "<table border=\"1\" class=\"dataframe\">\n",
       "  <thead>\n",
       "    <tr style=\"text-align: right;\">\n",
       "      <th></th>\n",
       "      <th>year</th>\n",
       "      <th>country</th>\n",
       "      <th>cluster</th>\n",
       "      <th>pop</th>\n",
       "      <th>life_expect</th>\n",
       "      <th>fertility</th>\n",
       "    </tr>\n",
       "  </thead>\n",
       "  <tbody>\n",
       "    <tr>\n",
       "      <th>484</th>\n",
       "      <td>1955</td>\n",
       "      <td>Mexico</td>\n",
       "      <td>3</td>\n",
       "      <td>32929914</td>\n",
       "      <td>55.190</td>\n",
       "      <td>6.8000</td>\n",
       "    </tr>\n",
       "    <tr>\n",
       "      <th>485</th>\n",
       "      <td>1960</td>\n",
       "      <td>Mexico</td>\n",
       "      <td>3</td>\n",
       "      <td>38578505</td>\n",
       "      <td>58.299</td>\n",
       "      <td>6.7495</td>\n",
       "    </tr>\n",
       "    <tr>\n",
       "      <th>486</th>\n",
       "      <td>1965</td>\n",
       "      <td>Mexico</td>\n",
       "      <td>3</td>\n",
       "      <td>45142399</td>\n",
       "      <td>60.110</td>\n",
       "      <td>6.7495</td>\n",
       "    </tr>\n",
       "    <tr>\n",
       "      <th>487</th>\n",
       "      <td>1970</td>\n",
       "      <td>Mexico</td>\n",
       "      <td>3</td>\n",
       "      <td>52775158</td>\n",
       "      <td>62.361</td>\n",
       "      <td>6.5000</td>\n",
       "    </tr>\n",
       "    <tr>\n",
       "      <th>488</th>\n",
       "      <td>1975</td>\n",
       "      <td>Mexico</td>\n",
       "      <td>3</td>\n",
       "      <td>60678045</td>\n",
       "      <td>65.032</td>\n",
       "      <td>5.2505</td>\n",
       "    </tr>\n",
       "    <tr>\n",
       "      <th>489</th>\n",
       "      <td>1980</td>\n",
       "      <td>Mexico</td>\n",
       "      <td>3</td>\n",
       "      <td>68347479</td>\n",
       "      <td>67.405</td>\n",
       "      <td>4.2500</td>\n",
       "    </tr>\n",
       "    <tr>\n",
       "      <th>490</th>\n",
       "      <td>1985</td>\n",
       "      <td>Mexico</td>\n",
       "      <td>3</td>\n",
       "      <td>76767225</td>\n",
       "      <td>69.498</td>\n",
       "      <td>3.6295</td>\n",
       "    </tr>\n",
       "    <tr>\n",
       "      <th>491</th>\n",
       "      <td>1990</td>\n",
       "      <td>Mexico</td>\n",
       "      <td>3</td>\n",
       "      <td>84913652</td>\n",
       "      <td>71.455</td>\n",
       "      <td>3.1905</td>\n",
       "    </tr>\n",
       "    <tr>\n",
       "      <th>492</th>\n",
       "      <td>1995</td>\n",
       "      <td>Mexico</td>\n",
       "      <td>3</td>\n",
       "      <td>92880353</td>\n",
       "      <td>73.670</td>\n",
       "      <td>2.6705</td>\n",
       "    </tr>\n",
       "    <tr>\n",
       "      <th>493</th>\n",
       "      <td>2000</td>\n",
       "      <td>Mexico</td>\n",
       "      <td>3</td>\n",
       "      <td>99926620</td>\n",
       "      <td>74.902</td>\n",
       "      <td>2.4005</td>\n",
       "    </tr>\n",
       "    <tr>\n",
       "      <th>494</th>\n",
       "      <td>2005</td>\n",
       "      <td>Mexico</td>\n",
       "      <td>3</td>\n",
       "      <td>106202903</td>\n",
       "      <td>76.195</td>\n",
       "      <td>2.2110</td>\n",
       "    </tr>\n",
       "  </tbody>\n",
       "</table>\n",
       "</div>"
      ],
      "text/plain": [
       "     year country  cluster        pop  life_expect  fertility\n",
       "484  1955  Mexico        3   32929914       55.190     6.8000\n",
       "485  1960  Mexico        3   38578505       58.299     6.7495\n",
       "486  1965  Mexico        3   45142399       60.110     6.7495\n",
       "487  1970  Mexico        3   52775158       62.361     6.5000\n",
       "488  1975  Mexico        3   60678045       65.032     5.2505\n",
       "489  1980  Mexico        3   68347479       67.405     4.2500\n",
       "490  1985  Mexico        3   76767225       69.498     3.6295\n",
       "491  1990  Mexico        3   84913652       71.455     3.1905\n",
       "492  1995  Mexico        3   92880353       73.670     2.6705\n",
       "493  2000  Mexico        3   99926620       74.902     2.4005\n",
       "494  2005  Mexico        3  106202903       76.195     2.2110"
      ]
     },
     "execution_count": 4,
     "metadata": {},
     "output_type": "execute_result"
    }
   ],
   "source": [
    "datos_pais_dos = data[data['country'] == segundo_pais]\n",
    "datos_pais_dos"
   ]
  },
  {
   "cell_type": "code",
   "execution_count": 5,
   "metadata": {
    "azdata_cell_guid": "28d75c13-c2d5-4351-863d-b290a2ae552b"
   },
   "outputs": [],
   "source": [
    "barras = alt.Chart(datos_de_mi_pais).mark_bar(fill = '#D47AE8').encode(\n",
    "    x = alt.X('year:O', title = '', axis = alt.Axis(labelAngle=0, labelFontSize=12)),\n",
    "    y = alt.Y('pop:Q', title = 'Población', axis = alt.Axis(format = \".2s\", grid=False, titleAnchor='end', titleAngle = 0, labels = False, domain=False, ticks = False)),\n",
    ")"
   ]
  },
  {
   "cell_type": "code",
   "execution_count": 6,
   "metadata": {
    "azdata_cell_guid": "70e428ca-8829-4c62-ac99-8c6c373126ba"
   },
   "outputs": [],
   "source": [
    "barras_dos = alt.Chart(datos_pais_dos).mark_bar(fill = '#D47AE8').encode(\n",
    "    x = alt.X('year:O', title = '', axis = alt.Axis(labelAngle=0, labelFontSize=12)),\n",
    "    y = alt.Y('pop:Q', title = 'Población', axis = alt.Axis(format = \".2s\", grid=False, titleAnchor='end', titleAngle = 0, labels = False, domain=False, ticks = False)),\n",
    ")"
   ]
  },
  {
   "cell_type": "code",
   "execution_count": 7,
   "metadata": {
    "azdata_cell_guid": "1126a88e-29f6-44e9-98cd-2e5b6323b741"
   },
   "outputs": [
    {
     "data": {
      "text/html": [
       "\n",
       "<div id=\"altair-viz-d19bcce1f93d4551aaf36fa18d1ae975\"></div>\n",
       "<script type=\"text/javascript\">\n",
       "  (function(spec, embedOpt){\n",
       "    let outputDiv = document.currentScript.previousElementSibling;\n",
       "    if (outputDiv.id !== \"altair-viz-d19bcce1f93d4551aaf36fa18d1ae975\") {\n",
       "      outputDiv = document.getElementById(\"altair-viz-d19bcce1f93d4551aaf36fa18d1ae975\");\n",
       "    }\n",
       "    const paths = {\n",
       "      \"vega\": \"https://cdn.jsdelivr.net/npm//vega@5?noext\",\n",
       "      \"vega-lib\": \"https://cdn.jsdelivr.net/npm//vega-lib?noext\",\n",
       "      \"vega-lite\": \"https://cdn.jsdelivr.net/npm//vega-lite@4.17.0?noext\",\n",
       "      \"vega-embed\": \"https://cdn.jsdelivr.net/npm//vega-embed@6?noext\",\n",
       "    };\n",
       "\n",
       "    function loadScript(lib) {\n",
       "      return new Promise(function(resolve, reject) {\n",
       "        var s = document.createElement('script');\n",
       "        s.src = paths[lib];\n",
       "        s.async = true;\n",
       "        s.onload = () => resolve(paths[lib]);\n",
       "        s.onerror = () => reject(`Error loading script: ${paths[lib]}`);\n",
       "        document.getElementsByTagName(\"head\")[0].appendChild(s);\n",
       "      });\n",
       "    }\n",
       "\n",
       "    function showError(err) {\n",
       "      outputDiv.innerHTML = `<div class=\"error\" style=\"color:red;\">${err}</div>`;\n",
       "      throw err;\n",
       "    }\n",
       "\n",
       "    function displayChart(vegaEmbed) {\n",
       "      vegaEmbed(outputDiv, spec, embedOpt)\n",
       "        .catch(err => showError(`Javascript Error: ${err.message}<br>This usually means there's a typo in your chart specification. See the javascript console for the full traceback.`));\n",
       "    }\n",
       "\n",
       "    if(typeof define === \"function\" && define.amd) {\n",
       "      requirejs.config({paths});\n",
       "      require([\"vega-embed\"], displayChart, err => showError(`Error loading script: ${err.message}`));\n",
       "    } else if (typeof vegaEmbed === \"function\") {\n",
       "      displayChart(vegaEmbed);\n",
       "    } else {\n",
       "      loadScript(\"vega\")\n",
       "        .then(() => loadScript(\"vega-lite\"))\n",
       "        .then(() => loadScript(\"vega-embed\"))\n",
       "        .catch(showError)\n",
       "        .then(() => displayChart(vegaEmbed));\n",
       "    }\n",
       "  })({\"config\": {\"view\": {\"continuousWidth\": 400, \"continuousHeight\": 300}}, \"data\": {\"name\": \"data-b3b19feb74daff1b6519ffdda6731053\"}, \"mark\": {\"type\": \"bar\", \"fill\": \"#D47AE8\"}, \"encoding\": {\"x\": {\"axis\": {\"labelAngle\": 0, \"labelFontSize\": 12}, \"field\": \"year\", \"title\": \"\", \"type\": \"ordinal\"}, \"y\": {\"axis\": {\"domain\": false, \"format\": \".2s\", \"grid\": false, \"labels\": false, \"ticks\": false, \"titleAnchor\": \"end\", \"titleAngle\": 0}, \"field\": \"pop\", \"title\": \"Poblaci\\u00f3n\", \"type\": \"quantitative\"}}, \"$schema\": \"https://vega.github.io/schema/vega-lite/v4.17.0.json\", \"datasets\": {\"data-b3b19feb74daff1b6519ffdda6731053\": [{\"year\": 1955, \"country\": \"India\", \"cluster\": 0, \"pop\": 393000000, \"life_expect\": 40.249, \"fertility\": 5.8961}, {\"year\": 1960, \"country\": \"India\", \"cluster\": 0, \"pop\": 434000000, \"life_expect\": 43.605, \"fertility\": 5.8216}, {\"year\": 1965, \"country\": \"India\", \"cluster\": 0, \"pop\": 485000000, \"life_expect\": 47.193, \"fertility\": 5.6058}, {\"year\": 1970, \"country\": \"India\", \"cluster\": 0, \"pop\": 541000000, \"life_expect\": 50.651, \"fertility\": 5.264}, {\"year\": 1975, \"country\": \"India\", \"cluster\": 0, \"pop\": 607000000, \"life_expect\": 54.208, \"fertility\": 4.8888}, {\"year\": 1980, \"country\": \"India\", \"cluster\": 0, \"pop\": 679000000, \"life_expect\": 56.596, \"fertility\": 4.4975}, {\"year\": 1985, \"country\": \"India\", \"cluster\": 0, \"pop\": 755000000, \"life_expect\": 58.553, \"fertility\": 4.15}, {\"year\": 1990, \"country\": \"India\", \"cluster\": 0, \"pop\": 839000000, \"life_expect\": 60.223, \"fertility\": 3.8648}, {\"year\": 1995, \"country\": \"India\", \"cluster\": 0, \"pop\": 927000000, \"life_expect\": 61.765, \"fertility\": 3.4551}, {\"year\": 2000, \"country\": \"India\", \"cluster\": 0, \"pop\": 1007702000, \"life_expect\": 62.879, \"fertility\": 3.1132}, {\"year\": 2005, \"country\": \"India\", \"cluster\": 0, \"pop\": 1080264388, \"life_expect\": 64.698, \"fertility\": 2.8073}]}}, {\"mode\": \"vega-lite\"});\n",
       "</script>"
      ],
      "text/plain": [
       "alt.Chart(...)"
      ]
     },
     "execution_count": 7,
     "metadata": {},
     "output_type": "execute_result"
    }
   ],
   "source": [
    "barras"
   ]
  },
  {
   "cell_type": "code",
   "execution_count": 8,
   "metadata": {
    "azdata_cell_guid": "b0cd98e9-c552-41ec-bbc0-10116498e69a"
   },
   "outputs": [
    {
     "data": {
      "text/html": [
       "\n",
       "<div id=\"altair-viz-4c0c834dae394dc9a677bb7975e59ac8\"></div>\n",
       "<script type=\"text/javascript\">\n",
       "  (function(spec, embedOpt){\n",
       "    let outputDiv = document.currentScript.previousElementSibling;\n",
       "    if (outputDiv.id !== \"altair-viz-4c0c834dae394dc9a677bb7975e59ac8\") {\n",
       "      outputDiv = document.getElementById(\"altair-viz-4c0c834dae394dc9a677bb7975e59ac8\");\n",
       "    }\n",
       "    const paths = {\n",
       "      \"vega\": \"https://cdn.jsdelivr.net/npm//vega@5?noext\",\n",
       "      \"vega-lib\": \"https://cdn.jsdelivr.net/npm//vega-lib?noext\",\n",
       "      \"vega-lite\": \"https://cdn.jsdelivr.net/npm//vega-lite@4.17.0?noext\",\n",
       "      \"vega-embed\": \"https://cdn.jsdelivr.net/npm//vega-embed@6?noext\",\n",
       "    };\n",
       "\n",
       "    function loadScript(lib) {\n",
       "      return new Promise(function(resolve, reject) {\n",
       "        var s = document.createElement('script');\n",
       "        s.src = paths[lib];\n",
       "        s.async = true;\n",
       "        s.onload = () => resolve(paths[lib]);\n",
       "        s.onerror = () => reject(`Error loading script: ${paths[lib]}`);\n",
       "        document.getElementsByTagName(\"head\")[0].appendChild(s);\n",
       "      });\n",
       "    }\n",
       "\n",
       "    function showError(err) {\n",
       "      outputDiv.innerHTML = `<div class=\"error\" style=\"color:red;\">${err}</div>`;\n",
       "      throw err;\n",
       "    }\n",
       "\n",
       "    function displayChart(vegaEmbed) {\n",
       "      vegaEmbed(outputDiv, spec, embedOpt)\n",
       "        .catch(err => showError(`Javascript Error: ${err.message}<br>This usually means there's a typo in your chart specification. See the javascript console for the full traceback.`));\n",
       "    }\n",
       "\n",
       "    if(typeof define === \"function\" && define.amd) {\n",
       "      requirejs.config({paths});\n",
       "      require([\"vega-embed\"], displayChart, err => showError(`Error loading script: ${err.message}`));\n",
       "    } else if (typeof vegaEmbed === \"function\") {\n",
       "      displayChart(vegaEmbed);\n",
       "    } else {\n",
       "      loadScript(\"vega\")\n",
       "        .then(() => loadScript(\"vega-lite\"))\n",
       "        .then(() => loadScript(\"vega-embed\"))\n",
       "        .catch(showError)\n",
       "        .then(() => displayChart(vegaEmbed));\n",
       "    }\n",
       "  })({\"config\": {\"view\": {\"continuousWidth\": 400, \"continuousHeight\": 300}}, \"data\": {\"name\": \"data-aba864ee56f53a3188d399bc2e3218f7\"}, \"mark\": {\"type\": \"bar\", \"fill\": \"#D47AE8\"}, \"encoding\": {\"x\": {\"axis\": {\"labelAngle\": 0, \"labelFontSize\": 12}, \"field\": \"year\", \"title\": \"\", \"type\": \"ordinal\"}, \"y\": {\"axis\": {\"domain\": false, \"format\": \".2s\", \"grid\": false, \"labels\": false, \"ticks\": false, \"titleAnchor\": \"end\", \"titleAngle\": 0}, \"field\": \"pop\", \"title\": \"Poblaci\\u00f3n\", \"type\": \"quantitative\"}}, \"$schema\": \"https://vega.github.io/schema/vega-lite/v4.17.0.json\", \"datasets\": {\"data-aba864ee56f53a3188d399bc2e3218f7\": [{\"year\": 1955, \"country\": \"Mexico\", \"cluster\": 3, \"pop\": 32929914, \"life_expect\": 55.19, \"fertility\": 6.8}, {\"year\": 1960, \"country\": \"Mexico\", \"cluster\": 3, \"pop\": 38578505, \"life_expect\": 58.299, \"fertility\": 6.7495}, {\"year\": 1965, \"country\": \"Mexico\", \"cluster\": 3, \"pop\": 45142399, \"life_expect\": 60.11, \"fertility\": 6.7495}, {\"year\": 1970, \"country\": \"Mexico\", \"cluster\": 3, \"pop\": 52775158, \"life_expect\": 62.361, \"fertility\": 6.5}, {\"year\": 1975, \"country\": \"Mexico\", \"cluster\": 3, \"pop\": 60678045, \"life_expect\": 65.032, \"fertility\": 5.2505}, {\"year\": 1980, \"country\": \"Mexico\", \"cluster\": 3, \"pop\": 68347479, \"life_expect\": 67.405, \"fertility\": 4.25}, {\"year\": 1985, \"country\": \"Mexico\", \"cluster\": 3, \"pop\": 76767225, \"life_expect\": 69.498, \"fertility\": 3.6295}, {\"year\": 1990, \"country\": \"Mexico\", \"cluster\": 3, \"pop\": 84913652, \"life_expect\": 71.455, \"fertility\": 3.1905}, {\"year\": 1995, \"country\": \"Mexico\", \"cluster\": 3, \"pop\": 92880353, \"life_expect\": 73.67, \"fertility\": 2.6705}, {\"year\": 2000, \"country\": \"Mexico\", \"cluster\": 3, \"pop\": 99926620, \"life_expect\": 74.902, \"fertility\": 2.4005}, {\"year\": 2005, \"country\": \"Mexico\", \"cluster\": 3, \"pop\": 106202903, \"life_expect\": 76.195, \"fertility\": 2.211}]}}, {\"mode\": \"vega-lite\"});\n",
       "</script>"
      ],
      "text/plain": [
       "alt.Chart(...)"
      ]
     },
     "execution_count": 8,
     "metadata": {},
     "output_type": "execute_result"
    }
   ],
   "source": [
    "barras_dos"
   ]
  },
  {
   "cell_type": "code",
   "execution_count": 9,
   "metadata": {
    "azdata_cell_guid": "d18b7d12-5166-4c3f-9404-3cae889f5ebc"
   },
   "outputs": [],
   "source": [
    "etiquetas = barras.mark_text(dy = -5).encode(\n",
    "    text = alt.Text('pop:Q', format = \".2s\"),\n",
    ")"
   ]
  },
  {
   "cell_type": "code",
   "execution_count": 10,
   "metadata": {
    "azdata_cell_guid": "9f4719e2-572c-4342-be0e-82b260abeedd"
   },
   "outputs": [],
   "source": [
    "etiquetas_dos = barras_dos.mark_text(dy = -5).encode(\n",
    "    text = alt.Text('pop:Q', format = \".2s\"),\n",
    ")"
   ]
  },
  {
   "cell_type": "code",
   "execution_count": 11,
   "metadata": {
    "azdata_cell_guid": "bba7ecef-6c1e-467d-91c8-ac6c74a77241"
   },
   "outputs": [
    {
     "data": {
      "text/html": [
       "\n",
       "<div id=\"altair-viz-b00f5f89f20b4aaa9f09b15d817f407a\"></div>\n",
       "<script type=\"text/javascript\">\n",
       "  (function(spec, embedOpt){\n",
       "    let outputDiv = document.currentScript.previousElementSibling;\n",
       "    if (outputDiv.id !== \"altair-viz-b00f5f89f20b4aaa9f09b15d817f407a\") {\n",
       "      outputDiv = document.getElementById(\"altair-viz-b00f5f89f20b4aaa9f09b15d817f407a\");\n",
       "    }\n",
       "    const paths = {\n",
       "      \"vega\": \"https://cdn.jsdelivr.net/npm//vega@5?noext\",\n",
       "      \"vega-lib\": \"https://cdn.jsdelivr.net/npm//vega-lib?noext\",\n",
       "      \"vega-lite\": \"https://cdn.jsdelivr.net/npm//vega-lite@4.17.0?noext\",\n",
       "      \"vega-embed\": \"https://cdn.jsdelivr.net/npm//vega-embed@6?noext\",\n",
       "    };\n",
       "\n",
       "    function loadScript(lib) {\n",
       "      return new Promise(function(resolve, reject) {\n",
       "        var s = document.createElement('script');\n",
       "        s.src = paths[lib];\n",
       "        s.async = true;\n",
       "        s.onload = () => resolve(paths[lib]);\n",
       "        s.onerror = () => reject(`Error loading script: ${paths[lib]}`);\n",
       "        document.getElementsByTagName(\"head\")[0].appendChild(s);\n",
       "      });\n",
       "    }\n",
       "\n",
       "    function showError(err) {\n",
       "      outputDiv.innerHTML = `<div class=\"error\" style=\"color:red;\">${err}</div>`;\n",
       "      throw err;\n",
       "    }\n",
       "\n",
       "    function displayChart(vegaEmbed) {\n",
       "      vegaEmbed(outputDiv, spec, embedOpt)\n",
       "        .catch(err => showError(`Javascript Error: ${err.message}<br>This usually means there's a typo in your chart specification. See the javascript console for the full traceback.`));\n",
       "    }\n",
       "\n",
       "    if(typeof define === \"function\" && define.amd) {\n",
       "      requirejs.config({paths});\n",
       "      require([\"vega-embed\"], displayChart, err => showError(`Error loading script: ${err.message}`));\n",
       "    } else if (typeof vegaEmbed === \"function\") {\n",
       "      displayChart(vegaEmbed);\n",
       "    } else {\n",
       "      loadScript(\"vega\")\n",
       "        .then(() => loadScript(\"vega-lite\"))\n",
       "        .then(() => loadScript(\"vega-embed\"))\n",
       "        .catch(showError)\n",
       "        .then(() => displayChart(vegaEmbed));\n",
       "    }\n",
       "  })({\"config\": {\"view\": {\"continuousWidth\": 400, \"continuousHeight\": 300}}, \"data\": {\"name\": \"data-b3b19feb74daff1b6519ffdda6731053\"}, \"mark\": {\"type\": \"text\", \"dy\": -5}, \"encoding\": {\"text\": {\"field\": \"pop\", \"format\": \".2s\", \"type\": \"quantitative\"}, \"x\": {\"axis\": {\"labelAngle\": 0, \"labelFontSize\": 12}, \"field\": \"year\", \"title\": \"\", \"type\": \"ordinal\"}, \"y\": {\"axis\": {\"domain\": false, \"format\": \".2s\", \"grid\": false, \"labels\": false, \"ticks\": false, \"titleAnchor\": \"end\", \"titleAngle\": 0}, \"field\": \"pop\", \"title\": \"Poblaci\\u00f3n\", \"type\": \"quantitative\"}}, \"$schema\": \"https://vega.github.io/schema/vega-lite/v4.17.0.json\", \"datasets\": {\"data-b3b19feb74daff1b6519ffdda6731053\": [{\"year\": 1955, \"country\": \"India\", \"cluster\": 0, \"pop\": 393000000, \"life_expect\": 40.249, \"fertility\": 5.8961}, {\"year\": 1960, \"country\": \"India\", \"cluster\": 0, \"pop\": 434000000, \"life_expect\": 43.605, \"fertility\": 5.8216}, {\"year\": 1965, \"country\": \"India\", \"cluster\": 0, \"pop\": 485000000, \"life_expect\": 47.193, \"fertility\": 5.6058}, {\"year\": 1970, \"country\": \"India\", \"cluster\": 0, \"pop\": 541000000, \"life_expect\": 50.651, \"fertility\": 5.264}, {\"year\": 1975, \"country\": \"India\", \"cluster\": 0, \"pop\": 607000000, \"life_expect\": 54.208, \"fertility\": 4.8888}, {\"year\": 1980, \"country\": \"India\", \"cluster\": 0, \"pop\": 679000000, \"life_expect\": 56.596, \"fertility\": 4.4975}, {\"year\": 1985, \"country\": \"India\", \"cluster\": 0, \"pop\": 755000000, \"life_expect\": 58.553, \"fertility\": 4.15}, {\"year\": 1990, \"country\": \"India\", \"cluster\": 0, \"pop\": 839000000, \"life_expect\": 60.223, \"fertility\": 3.8648}, {\"year\": 1995, \"country\": \"India\", \"cluster\": 0, \"pop\": 927000000, \"life_expect\": 61.765, \"fertility\": 3.4551}, {\"year\": 2000, \"country\": \"India\", \"cluster\": 0, \"pop\": 1007702000, \"life_expect\": 62.879, \"fertility\": 3.1132}, {\"year\": 2005, \"country\": \"India\", \"cluster\": 0, \"pop\": 1080264388, \"life_expect\": 64.698, \"fertility\": 2.8073}]}}, {\"mode\": \"vega-lite\"});\n",
       "</script>"
      ],
      "text/plain": [
       "alt.Chart(...)"
      ]
     },
     "execution_count": 11,
     "metadata": {},
     "output_type": "execute_result"
    }
   ],
   "source": [
    "etiquetas"
   ]
  },
  {
   "cell_type": "code",
   "execution_count": 12,
   "metadata": {
    "azdata_cell_guid": "ae806862-78e7-4cb9-9a15-c73922fcc2a5"
   },
   "outputs": [
    {
     "data": {
      "text/html": [
       "\n",
       "<div id=\"altair-viz-3a1b99d6d04e40928cf304a600778943\"></div>\n",
       "<script type=\"text/javascript\">\n",
       "  (function(spec, embedOpt){\n",
       "    let outputDiv = document.currentScript.previousElementSibling;\n",
       "    if (outputDiv.id !== \"altair-viz-3a1b99d6d04e40928cf304a600778943\") {\n",
       "      outputDiv = document.getElementById(\"altair-viz-3a1b99d6d04e40928cf304a600778943\");\n",
       "    }\n",
       "    const paths = {\n",
       "      \"vega\": \"https://cdn.jsdelivr.net/npm//vega@5?noext\",\n",
       "      \"vega-lib\": \"https://cdn.jsdelivr.net/npm//vega-lib?noext\",\n",
       "      \"vega-lite\": \"https://cdn.jsdelivr.net/npm//vega-lite@4.17.0?noext\",\n",
       "      \"vega-embed\": \"https://cdn.jsdelivr.net/npm//vega-embed@6?noext\",\n",
       "    };\n",
       "\n",
       "    function loadScript(lib) {\n",
       "      return new Promise(function(resolve, reject) {\n",
       "        var s = document.createElement('script');\n",
       "        s.src = paths[lib];\n",
       "        s.async = true;\n",
       "        s.onload = () => resolve(paths[lib]);\n",
       "        s.onerror = () => reject(`Error loading script: ${paths[lib]}`);\n",
       "        document.getElementsByTagName(\"head\")[0].appendChild(s);\n",
       "      });\n",
       "    }\n",
       "\n",
       "    function showError(err) {\n",
       "      outputDiv.innerHTML = `<div class=\"error\" style=\"color:red;\">${err}</div>`;\n",
       "      throw err;\n",
       "    }\n",
       "\n",
       "    function displayChart(vegaEmbed) {\n",
       "      vegaEmbed(outputDiv, spec, embedOpt)\n",
       "        .catch(err => showError(`Javascript Error: ${err.message}<br>This usually means there's a typo in your chart specification. See the javascript console for the full traceback.`));\n",
       "    }\n",
       "\n",
       "    if(typeof define === \"function\" && define.amd) {\n",
       "      requirejs.config({paths});\n",
       "      require([\"vega-embed\"], displayChart, err => showError(`Error loading script: ${err.message}`));\n",
       "    } else if (typeof vegaEmbed === \"function\") {\n",
       "      displayChart(vegaEmbed);\n",
       "    } else {\n",
       "      loadScript(\"vega\")\n",
       "        .then(() => loadScript(\"vega-lite\"))\n",
       "        .then(() => loadScript(\"vega-embed\"))\n",
       "        .catch(showError)\n",
       "        .then(() => displayChart(vegaEmbed));\n",
       "    }\n",
       "  })({\"config\": {\"view\": {\"continuousWidth\": 400, \"continuousHeight\": 300}}, \"data\": {\"name\": \"data-aba864ee56f53a3188d399bc2e3218f7\"}, \"mark\": {\"type\": \"text\", \"dy\": -5}, \"encoding\": {\"text\": {\"field\": \"pop\", \"format\": \".2s\", \"type\": \"quantitative\"}, \"x\": {\"axis\": {\"labelAngle\": 0, \"labelFontSize\": 12}, \"field\": \"year\", \"title\": \"\", \"type\": \"ordinal\"}, \"y\": {\"axis\": {\"domain\": false, \"format\": \".2s\", \"grid\": false, \"labels\": false, \"ticks\": false, \"titleAnchor\": \"end\", \"titleAngle\": 0}, \"field\": \"pop\", \"title\": \"Poblaci\\u00f3n\", \"type\": \"quantitative\"}}, \"$schema\": \"https://vega.github.io/schema/vega-lite/v4.17.0.json\", \"datasets\": {\"data-aba864ee56f53a3188d399bc2e3218f7\": [{\"year\": 1955, \"country\": \"Mexico\", \"cluster\": 3, \"pop\": 32929914, \"life_expect\": 55.19, \"fertility\": 6.8}, {\"year\": 1960, \"country\": \"Mexico\", \"cluster\": 3, \"pop\": 38578505, \"life_expect\": 58.299, \"fertility\": 6.7495}, {\"year\": 1965, \"country\": \"Mexico\", \"cluster\": 3, \"pop\": 45142399, \"life_expect\": 60.11, \"fertility\": 6.7495}, {\"year\": 1970, \"country\": \"Mexico\", \"cluster\": 3, \"pop\": 52775158, \"life_expect\": 62.361, \"fertility\": 6.5}, {\"year\": 1975, \"country\": \"Mexico\", \"cluster\": 3, \"pop\": 60678045, \"life_expect\": 65.032, \"fertility\": 5.2505}, {\"year\": 1980, \"country\": \"Mexico\", \"cluster\": 3, \"pop\": 68347479, \"life_expect\": 67.405, \"fertility\": 4.25}, {\"year\": 1985, \"country\": \"Mexico\", \"cluster\": 3, \"pop\": 76767225, \"life_expect\": 69.498, \"fertility\": 3.6295}, {\"year\": 1990, \"country\": \"Mexico\", \"cluster\": 3, \"pop\": 84913652, \"life_expect\": 71.455, \"fertility\": 3.1905}, {\"year\": 1995, \"country\": \"Mexico\", \"cluster\": 3, \"pop\": 92880353, \"life_expect\": 73.67, \"fertility\": 2.6705}, {\"year\": 2000, \"country\": \"Mexico\", \"cluster\": 3, \"pop\": 99926620, \"life_expect\": 74.902, \"fertility\": 2.4005}, {\"year\": 2005, \"country\": \"Mexico\", \"cluster\": 3, \"pop\": 106202903, \"life_expect\": 76.195, \"fertility\": 2.211}]}}, {\"mode\": \"vega-lite\"});\n",
       "</script>"
      ],
      "text/plain": [
       "alt.Chart(...)"
      ]
     },
     "execution_count": 12,
     "metadata": {},
     "output_type": "execute_result"
    }
   ],
   "source": [
    "etiquetas_dos"
   ]
  },
  {
   "cell_type": "code",
   "execution_count": 13,
   "metadata": {
    "azdata_cell_guid": "2ad28e8f-32aa-4ba6-84fb-7d6fcdfb8fad"
   },
   "outputs": [],
   "source": [
    "grafico_final = barras + etiquetas\n",
    "grafico_dos = barras_dos + etiquetas_dos"
   ]
  },
  {
   "cell_type": "code",
   "execution_count": 15,
   "metadata": {
    "azdata_cell_guid": "3d0c45ee-136c-4ca7-9140-0ad29977149a"
   },
   "outputs": [
    {
     "data": {
      "text/html": [
       "\n",
       "<div id=\"altair-viz-7fb55fe59708481ab6227dc5f91468af\"></div>\n",
       "<script type=\"text/javascript\">\n",
       "  (function(spec, embedOpt){\n",
       "    let outputDiv = document.currentScript.previousElementSibling;\n",
       "    if (outputDiv.id !== \"altair-viz-7fb55fe59708481ab6227dc5f91468af\") {\n",
       "      outputDiv = document.getElementById(\"altair-viz-7fb55fe59708481ab6227dc5f91468af\");\n",
       "    }\n",
       "    const paths = {\n",
       "      \"vega\": \"https://cdn.jsdelivr.net/npm//vega@5?noext\",\n",
       "      \"vega-lib\": \"https://cdn.jsdelivr.net/npm//vega-lib?noext\",\n",
       "      \"vega-lite\": \"https://cdn.jsdelivr.net/npm//vega-lite@4.17.0?noext\",\n",
       "      \"vega-embed\": \"https://cdn.jsdelivr.net/npm//vega-embed@6?noext\",\n",
       "    };\n",
       "\n",
       "    function loadScript(lib) {\n",
       "      return new Promise(function(resolve, reject) {\n",
       "        var s = document.createElement('script');\n",
       "        s.src = paths[lib];\n",
       "        s.async = true;\n",
       "        s.onload = () => resolve(paths[lib]);\n",
       "        s.onerror = () => reject(`Error loading script: ${paths[lib]}`);\n",
       "        document.getElementsByTagName(\"head\")[0].appendChild(s);\n",
       "      });\n",
       "    }\n",
       "\n",
       "    function showError(err) {\n",
       "      outputDiv.innerHTML = `<div class=\"error\" style=\"color:red;\">${err}</div>`;\n",
       "      throw err;\n",
       "    }\n",
       "\n",
       "    function displayChart(vegaEmbed) {\n",
       "      vegaEmbed(outputDiv, spec, embedOpt)\n",
       "        .catch(err => showError(`Javascript Error: ${err.message}<br>This usually means there's a typo in your chart specification. See the javascript console for the full traceback.`));\n",
       "    }\n",
       "\n",
       "    if(typeof define === \"function\" && define.amd) {\n",
       "      requirejs.config({paths});\n",
       "      require([\"vega-embed\"], displayChart, err => showError(`Error loading script: ${err.message}`));\n",
       "    } else if (typeof vegaEmbed === \"function\") {\n",
       "      displayChart(vegaEmbed);\n",
       "    } else {\n",
       "      loadScript(\"vega\")\n",
       "        .then(() => loadScript(\"vega-lite\"))\n",
       "        .then(() => loadScript(\"vega-embed\"))\n",
       "        .catch(showError)\n",
       "        .then(() => displayChart(vegaEmbed));\n",
       "    }\n",
       "  })({\"config\": {\"view\": {\"continuousWidth\": 400, \"continuousHeight\": 300, \"strokeWidth\": 0}, \"title\": {\"anchor\": \"start\", \"fontSize\": 18}}, \"layer\": [{\"mark\": {\"type\": \"bar\", \"fill\": \"#D47AE8\"}, \"encoding\": {\"x\": {\"axis\": {\"labelAngle\": 0, \"labelFontSize\": 12}, \"field\": \"year\", \"title\": \"\", \"type\": \"ordinal\"}, \"y\": {\"axis\": {\"domain\": false, \"format\": \".2s\", \"grid\": false, \"labels\": false, \"ticks\": false, \"titleAnchor\": \"end\", \"titleAngle\": 0}, \"field\": \"pop\", \"title\": \"Poblaci\\u00f3n\", \"type\": \"quantitative\"}}}, {\"mark\": {\"type\": \"text\", \"dy\": -5}, \"encoding\": {\"text\": {\"field\": \"pop\", \"format\": \".2s\", \"type\": \"quantitative\"}, \"x\": {\"axis\": {\"labelAngle\": 0, \"labelFontSize\": 12}, \"field\": \"year\", \"title\": \"\", \"type\": \"ordinal\"}, \"y\": {\"axis\": {\"domain\": false, \"format\": \".2s\", \"grid\": false, \"labels\": false, \"ticks\": false, \"titleAnchor\": \"end\", \"titleAngle\": 0}, \"field\": \"pop\", \"title\": \"Poblaci\\u00f3n\", \"type\": \"quantitative\"}}}], \"data\": {\"name\": \"data-b3b19feb74daff1b6519ffdda6731053\"}, \"title\": \"Poblaci\\u00f3n de India de 1955 a 2005\", \"width\": 600, \"$schema\": \"https://vega.github.io/schema/vega-lite/v4.17.0.json\", \"datasets\": {\"data-b3b19feb74daff1b6519ffdda6731053\": [{\"year\": 1955, \"country\": \"India\", \"cluster\": 0, \"pop\": 393000000, \"life_expect\": 40.249, \"fertility\": 5.8961}, {\"year\": 1960, \"country\": \"India\", \"cluster\": 0, \"pop\": 434000000, \"life_expect\": 43.605, \"fertility\": 5.8216}, {\"year\": 1965, \"country\": \"India\", \"cluster\": 0, \"pop\": 485000000, \"life_expect\": 47.193, \"fertility\": 5.6058}, {\"year\": 1970, \"country\": \"India\", \"cluster\": 0, \"pop\": 541000000, \"life_expect\": 50.651, \"fertility\": 5.264}, {\"year\": 1975, \"country\": \"India\", \"cluster\": 0, \"pop\": 607000000, \"life_expect\": 54.208, \"fertility\": 4.8888}, {\"year\": 1980, \"country\": \"India\", \"cluster\": 0, \"pop\": 679000000, \"life_expect\": 56.596, \"fertility\": 4.4975}, {\"year\": 1985, \"country\": \"India\", \"cluster\": 0, \"pop\": 755000000, \"life_expect\": 58.553, \"fertility\": 4.15}, {\"year\": 1990, \"country\": \"India\", \"cluster\": 0, \"pop\": 839000000, \"life_expect\": 60.223, \"fertility\": 3.8648}, {\"year\": 1995, \"country\": \"India\", \"cluster\": 0, \"pop\": 927000000, \"life_expect\": 61.765, \"fertility\": 3.4551}, {\"year\": 2000, \"country\": \"India\", \"cluster\": 0, \"pop\": 1007702000, \"life_expect\": 62.879, \"fertility\": 3.1132}, {\"year\": 2005, \"country\": \"India\", \"cluster\": 0, \"pop\": 1080264388, \"life_expect\": 64.698, \"fertility\": 2.8073}]}}, {\"mode\": \"vega-lite\"});\n",
       "</script>"
      ],
      "text/plain": [
       "alt.LayerChart(...)"
      ]
     },
     "execution_count": 15,
     "metadata": {},
     "output_type": "execute_result"
    }
   ],
   "source": [
    "grafico_final.properties(\n",
    "    title = f\"Población de {mi_pais} de 1955 a 2005\",\n",
    "    width = 600,\n",
    ").configure_title(\n",
    "    fontSize = 18,\n",
    "    anchor = 'start',\n",
    ").configure_view(\n",
    "    strokeWidth=0\n",
    ")"
   ]
  },
  {
   "cell_type": "code",
   "execution_count": 16,
   "metadata": {
    "azdata_cell_guid": "78efc219-7bfe-49bd-81d9-6af7a866ddbc"
   },
   "outputs": [
    {
     "data": {
      "text/html": [
       "\n",
       "<div id=\"altair-viz-1292717b8e9141adbea364dddac0f46f\"></div>\n",
       "<script type=\"text/javascript\">\n",
       "  (function(spec, embedOpt){\n",
       "    let outputDiv = document.currentScript.previousElementSibling;\n",
       "    if (outputDiv.id !== \"altair-viz-1292717b8e9141adbea364dddac0f46f\") {\n",
       "      outputDiv = document.getElementById(\"altair-viz-1292717b8e9141adbea364dddac0f46f\");\n",
       "    }\n",
       "    const paths = {\n",
       "      \"vega\": \"https://cdn.jsdelivr.net/npm//vega@5?noext\",\n",
       "      \"vega-lib\": \"https://cdn.jsdelivr.net/npm//vega-lib?noext\",\n",
       "      \"vega-lite\": \"https://cdn.jsdelivr.net/npm//vega-lite@4.17.0?noext\",\n",
       "      \"vega-embed\": \"https://cdn.jsdelivr.net/npm//vega-embed@6?noext\",\n",
       "    };\n",
       "\n",
       "    function loadScript(lib) {\n",
       "      return new Promise(function(resolve, reject) {\n",
       "        var s = document.createElement('script');\n",
       "        s.src = paths[lib];\n",
       "        s.async = true;\n",
       "        s.onload = () => resolve(paths[lib]);\n",
       "        s.onerror = () => reject(`Error loading script: ${paths[lib]}`);\n",
       "        document.getElementsByTagName(\"head\")[0].appendChild(s);\n",
       "      });\n",
       "    }\n",
       "\n",
       "    function showError(err) {\n",
       "      outputDiv.innerHTML = `<div class=\"error\" style=\"color:red;\">${err}</div>`;\n",
       "      throw err;\n",
       "    }\n",
       "\n",
       "    function displayChart(vegaEmbed) {\n",
       "      vegaEmbed(outputDiv, spec, embedOpt)\n",
       "        .catch(err => showError(`Javascript Error: ${err.message}<br>This usually means there's a typo in your chart specification. See the javascript console for the full traceback.`));\n",
       "    }\n",
       "\n",
       "    if(typeof define === \"function\" && define.amd) {\n",
       "      requirejs.config({paths});\n",
       "      require([\"vega-embed\"], displayChart, err => showError(`Error loading script: ${err.message}`));\n",
       "    } else if (typeof vegaEmbed === \"function\") {\n",
       "      displayChart(vegaEmbed);\n",
       "    } else {\n",
       "      loadScript(\"vega\")\n",
       "        .then(() => loadScript(\"vega-lite\"))\n",
       "        .then(() => loadScript(\"vega-embed\"))\n",
       "        .catch(showError)\n",
       "        .then(() => displayChart(vegaEmbed));\n",
       "    }\n",
       "  })({\"config\": {\"view\": {\"continuousWidth\": 400, \"continuousHeight\": 300, \"strokeWidth\": 0}, \"title\": {\"anchor\": \"start\", \"fontSize\": 18}}, \"layer\": [{\"mark\": {\"type\": \"bar\", \"fill\": \"#D47AE8\"}, \"encoding\": {\"x\": {\"axis\": {\"labelAngle\": 0, \"labelFontSize\": 12}, \"field\": \"year\", \"title\": \"\", \"type\": \"ordinal\"}, \"y\": {\"axis\": {\"domain\": false, \"format\": \".2s\", \"grid\": false, \"labels\": false, \"ticks\": false, \"titleAnchor\": \"end\", \"titleAngle\": 0}, \"field\": \"pop\", \"title\": \"Poblaci\\u00f3n\", \"type\": \"quantitative\"}}}, {\"mark\": {\"type\": \"text\", \"dy\": -5}, \"encoding\": {\"text\": {\"field\": \"pop\", \"format\": \".2s\", \"type\": \"quantitative\"}, \"x\": {\"axis\": {\"labelAngle\": 0, \"labelFontSize\": 12}, \"field\": \"year\", \"title\": \"\", \"type\": \"ordinal\"}, \"y\": {\"axis\": {\"domain\": false, \"format\": \".2s\", \"grid\": false, \"labels\": false, \"ticks\": false, \"titleAnchor\": \"end\", \"titleAngle\": 0}, \"field\": \"pop\", \"title\": \"Poblaci\\u00f3n\", \"type\": \"quantitative\"}}}], \"data\": {\"name\": \"data-aba864ee56f53a3188d399bc2e3218f7\"}, \"title\": \"Poblaci\\u00f3n de Mexico de 1955 a 2005\", \"width\": 600, \"$schema\": \"https://vega.github.io/schema/vega-lite/v4.17.0.json\", \"datasets\": {\"data-aba864ee56f53a3188d399bc2e3218f7\": [{\"year\": 1955, \"country\": \"Mexico\", \"cluster\": 3, \"pop\": 32929914, \"life_expect\": 55.19, \"fertility\": 6.8}, {\"year\": 1960, \"country\": \"Mexico\", \"cluster\": 3, \"pop\": 38578505, \"life_expect\": 58.299, \"fertility\": 6.7495}, {\"year\": 1965, \"country\": \"Mexico\", \"cluster\": 3, \"pop\": 45142399, \"life_expect\": 60.11, \"fertility\": 6.7495}, {\"year\": 1970, \"country\": \"Mexico\", \"cluster\": 3, \"pop\": 52775158, \"life_expect\": 62.361, \"fertility\": 6.5}, {\"year\": 1975, \"country\": \"Mexico\", \"cluster\": 3, \"pop\": 60678045, \"life_expect\": 65.032, \"fertility\": 5.2505}, {\"year\": 1980, \"country\": \"Mexico\", \"cluster\": 3, \"pop\": 68347479, \"life_expect\": 67.405, \"fertility\": 4.25}, {\"year\": 1985, \"country\": \"Mexico\", \"cluster\": 3, \"pop\": 76767225, \"life_expect\": 69.498, \"fertility\": 3.6295}, {\"year\": 1990, \"country\": \"Mexico\", \"cluster\": 3, \"pop\": 84913652, \"life_expect\": 71.455, \"fertility\": 3.1905}, {\"year\": 1995, \"country\": \"Mexico\", \"cluster\": 3, \"pop\": 92880353, \"life_expect\": 73.67, \"fertility\": 2.6705}, {\"year\": 2000, \"country\": \"Mexico\", \"cluster\": 3, \"pop\": 99926620, \"life_expect\": 74.902, \"fertility\": 2.4005}, {\"year\": 2005, \"country\": \"Mexico\", \"cluster\": 3, \"pop\": 106202903, \"life_expect\": 76.195, \"fertility\": 2.211}]}}, {\"mode\": \"vega-lite\"});\n",
       "</script>"
      ],
      "text/plain": [
       "alt.LayerChart(...)"
      ]
     },
     "execution_count": 16,
     "metadata": {},
     "output_type": "execute_result"
    }
   ],
   "source": [
    "grafico_dos.properties(\n",
    "    title = f\"Población de {segundo_pais} de 1955 a 2005\",\n",
    "    width = 600,\n",
    ").configure_title(\n",
    "    fontSize = 18,\n",
    "    anchor = 'start',\n",
    ").configure_view(\n",
    "    strokeWidth=0\n",
    ")"
   ]
  },
  {
   "cell_type": "code",
   "execution_count": 17,
   "metadata": {
    "azdata_cell_guid": "7a848ca6-bfd1-4e0b-abb2-bc8ee4b8552d"
   },
   "outputs": [
    {
     "data": {
      "text/html": [
       "\n",
       "<div id=\"altair-viz-2310eecfed4e499ca0484b1c797d2c1d\"></div>\n",
       "<script type=\"text/javascript\">\n",
       "  (function(spec, embedOpt){\n",
       "    let outputDiv = document.currentScript.previousElementSibling;\n",
       "    if (outputDiv.id !== \"altair-viz-2310eecfed4e499ca0484b1c797d2c1d\") {\n",
       "      outputDiv = document.getElementById(\"altair-viz-2310eecfed4e499ca0484b1c797d2c1d\");\n",
       "    }\n",
       "    const paths = {\n",
       "      \"vega\": \"https://cdn.jsdelivr.net/npm//vega@5?noext\",\n",
       "      \"vega-lib\": \"https://cdn.jsdelivr.net/npm//vega-lib?noext\",\n",
       "      \"vega-lite\": \"https://cdn.jsdelivr.net/npm//vega-lite@4.17.0?noext\",\n",
       "      \"vega-embed\": \"https://cdn.jsdelivr.net/npm//vega-embed@6?noext\",\n",
       "    };\n",
       "\n",
       "    function loadScript(lib) {\n",
       "      return new Promise(function(resolve, reject) {\n",
       "        var s = document.createElement('script');\n",
       "        s.src = paths[lib];\n",
       "        s.async = true;\n",
       "        s.onload = () => resolve(paths[lib]);\n",
       "        s.onerror = () => reject(`Error loading script: ${paths[lib]}`);\n",
       "        document.getElementsByTagName(\"head\")[0].appendChild(s);\n",
       "      });\n",
       "    }\n",
       "\n",
       "    function showError(err) {\n",
       "      outputDiv.innerHTML = `<div class=\"error\" style=\"color:red;\">${err}</div>`;\n",
       "      throw err;\n",
       "    }\n",
       "\n",
       "    function displayChart(vegaEmbed) {\n",
       "      vegaEmbed(outputDiv, spec, embedOpt)\n",
       "        .catch(err => showError(`Javascript Error: ${err.message}<br>This usually means there's a typo in your chart specification. See the javascript console for the full traceback.`));\n",
       "    }\n",
       "\n",
       "    if(typeof define === \"function\" && define.amd) {\n",
       "      requirejs.config({paths});\n",
       "      require([\"vega-embed\"], displayChart, err => showError(`Error loading script: ${err.message}`));\n",
       "    } else if (typeof vegaEmbed === \"function\") {\n",
       "      displayChart(vegaEmbed);\n",
       "    } else {\n",
       "      loadScript(\"vega\")\n",
       "        .then(() => loadScript(\"vega-lite\"))\n",
       "        .then(() => loadScript(\"vega-embed\"))\n",
       "        .catch(showError)\n",
       "        .then(() => displayChart(vegaEmbed));\n",
       "    }\n",
       "  })({\"config\": {\"view\": {\"continuousWidth\": 400, \"continuousHeight\": 300}}, \"hconcat\": [{\"layer\": [{\"mark\": {\"type\": \"bar\", \"fill\": \"#D47AE8\"}, \"encoding\": {\"x\": {\"axis\": {\"labelAngle\": 0, \"labelFontSize\": 12}, \"field\": \"year\", \"title\": \"\", \"type\": \"ordinal\"}, \"y\": {\"axis\": {\"domain\": false, \"format\": \".2s\", \"grid\": false, \"labels\": false, \"ticks\": false, \"titleAnchor\": \"end\", \"titleAngle\": 0}, \"field\": \"pop\", \"title\": \"Poblaci\\u00f3n\", \"type\": \"quantitative\"}}}, {\"mark\": {\"type\": \"text\", \"dy\": -5}, \"encoding\": {\"text\": {\"field\": \"pop\", \"format\": \".2s\", \"type\": \"quantitative\"}, \"x\": {\"axis\": {\"labelAngle\": 0, \"labelFontSize\": 12}, \"field\": \"year\", \"title\": \"\", \"type\": \"ordinal\"}, \"y\": {\"axis\": {\"domain\": false, \"format\": \".2s\", \"grid\": false, \"labels\": false, \"ticks\": false, \"titleAnchor\": \"end\", \"titleAngle\": 0}, \"field\": \"pop\", \"title\": \"Poblaci\\u00f3n\", \"type\": \"quantitative\"}}}], \"data\": {\"name\": \"data-b3b19feb74daff1b6519ffdda6731053\"}}, {\"layer\": [{\"mark\": {\"type\": \"bar\", \"fill\": \"#D47AE8\"}, \"encoding\": {\"x\": {\"axis\": {\"labelAngle\": 0, \"labelFontSize\": 12}, \"field\": \"year\", \"title\": \"\", \"type\": \"ordinal\"}, \"y\": {\"axis\": {\"domain\": false, \"format\": \".2s\", \"grid\": false, \"labels\": false, \"ticks\": false, \"titleAnchor\": \"end\", \"titleAngle\": 0}, \"field\": \"pop\", \"title\": \"Poblaci\\u00f3n\", \"type\": \"quantitative\"}}}, {\"mark\": {\"type\": \"text\", \"dy\": -5}, \"encoding\": {\"text\": {\"field\": \"pop\", \"format\": \".2s\", \"type\": \"quantitative\"}, \"x\": {\"axis\": {\"labelAngle\": 0, \"labelFontSize\": 12}, \"field\": \"year\", \"title\": \"\", \"type\": \"ordinal\"}, \"y\": {\"axis\": {\"domain\": false, \"format\": \".2s\", \"grid\": false, \"labels\": false, \"ticks\": false, \"titleAnchor\": \"end\", \"titleAngle\": 0}, \"field\": \"pop\", \"title\": \"Poblaci\\u00f3n\", \"type\": \"quantitative\"}}}], \"data\": {\"name\": \"data-aba864ee56f53a3188d399bc2e3218f7\"}}], \"$schema\": \"https://vega.github.io/schema/vega-lite/v4.17.0.json\", \"datasets\": {\"data-b3b19feb74daff1b6519ffdda6731053\": [{\"year\": 1955, \"country\": \"India\", \"cluster\": 0, \"pop\": 393000000, \"life_expect\": 40.249, \"fertility\": 5.8961}, {\"year\": 1960, \"country\": \"India\", \"cluster\": 0, \"pop\": 434000000, \"life_expect\": 43.605, \"fertility\": 5.8216}, {\"year\": 1965, \"country\": \"India\", \"cluster\": 0, \"pop\": 485000000, \"life_expect\": 47.193, \"fertility\": 5.6058}, {\"year\": 1970, \"country\": \"India\", \"cluster\": 0, \"pop\": 541000000, \"life_expect\": 50.651, \"fertility\": 5.264}, {\"year\": 1975, \"country\": \"India\", \"cluster\": 0, \"pop\": 607000000, \"life_expect\": 54.208, \"fertility\": 4.8888}, {\"year\": 1980, \"country\": \"India\", \"cluster\": 0, \"pop\": 679000000, \"life_expect\": 56.596, \"fertility\": 4.4975}, {\"year\": 1985, \"country\": \"India\", \"cluster\": 0, \"pop\": 755000000, \"life_expect\": 58.553, \"fertility\": 4.15}, {\"year\": 1990, \"country\": \"India\", \"cluster\": 0, \"pop\": 839000000, \"life_expect\": 60.223, \"fertility\": 3.8648}, {\"year\": 1995, \"country\": \"India\", \"cluster\": 0, \"pop\": 927000000, \"life_expect\": 61.765, \"fertility\": 3.4551}, {\"year\": 2000, \"country\": \"India\", \"cluster\": 0, \"pop\": 1007702000, \"life_expect\": 62.879, \"fertility\": 3.1132}, {\"year\": 2005, \"country\": \"India\", \"cluster\": 0, \"pop\": 1080264388, \"life_expect\": 64.698, \"fertility\": 2.8073}], \"data-aba864ee56f53a3188d399bc2e3218f7\": [{\"year\": 1955, \"country\": \"Mexico\", \"cluster\": 3, \"pop\": 32929914, \"life_expect\": 55.19, \"fertility\": 6.8}, {\"year\": 1960, \"country\": \"Mexico\", \"cluster\": 3, \"pop\": 38578505, \"life_expect\": 58.299, \"fertility\": 6.7495}, {\"year\": 1965, \"country\": \"Mexico\", \"cluster\": 3, \"pop\": 45142399, \"life_expect\": 60.11, \"fertility\": 6.7495}, {\"year\": 1970, \"country\": \"Mexico\", \"cluster\": 3, \"pop\": 52775158, \"life_expect\": 62.361, \"fertility\": 6.5}, {\"year\": 1975, \"country\": \"Mexico\", \"cluster\": 3, \"pop\": 60678045, \"life_expect\": 65.032, \"fertility\": 5.2505}, {\"year\": 1980, \"country\": \"Mexico\", \"cluster\": 3, \"pop\": 68347479, \"life_expect\": 67.405, \"fertility\": 4.25}, {\"year\": 1985, \"country\": \"Mexico\", \"cluster\": 3, \"pop\": 76767225, \"life_expect\": 69.498, \"fertility\": 3.6295}, {\"year\": 1990, \"country\": \"Mexico\", \"cluster\": 3, \"pop\": 84913652, \"life_expect\": 71.455, \"fertility\": 3.1905}, {\"year\": 1995, \"country\": \"Mexico\", \"cluster\": 3, \"pop\": 92880353, \"life_expect\": 73.67, \"fertility\": 2.6705}, {\"year\": 2000, \"country\": \"Mexico\", \"cluster\": 3, \"pop\": 99926620, \"life_expect\": 74.902, \"fertility\": 2.4005}, {\"year\": 2005, \"country\": \"Mexico\", \"cluster\": 3, \"pop\": 106202903, \"life_expect\": 76.195, \"fertility\": 2.211}]}}, {\"mode\": \"vega-lite\"});\n",
       "</script>"
      ],
      "text/plain": [
       "alt.HConcatChart(...)"
      ]
     },
     "execution_count": 17,
     "metadata": {},
     "output_type": "execute_result"
    }
   ],
   "source": [
    "grafico_final | grafico_dos"
   ]
  },
  {
   "cell_type": "markdown",
   "metadata": {
    "azdata_cell_guid": "e1540e64-4d57-42a0-b855-36da5c5c7a68"
   },
   "source": [
    "## Facetas"
   ]
  },
  {
   "cell_type": "code",
   "execution_count": 18,
   "metadata": {
    "azdata_cell_guid": "53f2c9cc-c669-4ba8-99df-e326689beadc"
   },
   "outputs": [
    {
     "data": {
      "text/html": [
       "<div>\n",
       "<style scoped>\n",
       "    .dataframe tbody tr th:only-of-type {\n",
       "        vertical-align: middle;\n",
       "    }\n",
       "\n",
       "    .dataframe tbody tr th {\n",
       "        vertical-align: top;\n",
       "    }\n",
       "\n",
       "    .dataframe thead th {\n",
       "        text-align: right;\n",
       "    }\n",
       "</style>\n",
       "<table border=\"1\" class=\"dataframe\">\n",
       "  <thead>\n",
       "    <tr style=\"text-align: right;\">\n",
       "      <th></th>\n",
       "      <th>year</th>\n",
       "      <th>country</th>\n",
       "      <th>cluster</th>\n",
       "      <th>pop</th>\n",
       "      <th>life_expect</th>\n",
       "      <th>fertility</th>\n",
       "    </tr>\n",
       "  </thead>\n",
       "  <tbody>\n",
       "    <tr>\n",
       "      <th>0</th>\n",
       "      <td>1955</td>\n",
       "      <td>Afghanistan</td>\n",
       "      <td>0</td>\n",
       "      <td>8891209</td>\n",
       "      <td>30.332</td>\n",
       "      <td>7.7000</td>\n",
       "    </tr>\n",
       "    <tr>\n",
       "      <th>1</th>\n",
       "      <td>1960</td>\n",
       "      <td>Afghanistan</td>\n",
       "      <td>0</td>\n",
       "      <td>9829450</td>\n",
       "      <td>31.997</td>\n",
       "      <td>7.7000</td>\n",
       "    </tr>\n",
       "    <tr>\n",
       "      <th>2</th>\n",
       "      <td>1965</td>\n",
       "      <td>Afghanistan</td>\n",
       "      <td>0</td>\n",
       "      <td>10997885</td>\n",
       "      <td>34.020</td>\n",
       "      <td>7.7000</td>\n",
       "    </tr>\n",
       "    <tr>\n",
       "      <th>3</th>\n",
       "      <td>1970</td>\n",
       "      <td>Afghanistan</td>\n",
       "      <td>0</td>\n",
       "      <td>12430623</td>\n",
       "      <td>36.088</td>\n",
       "      <td>7.7000</td>\n",
       "    </tr>\n",
       "    <tr>\n",
       "      <th>4</th>\n",
       "      <td>1975</td>\n",
       "      <td>Afghanistan</td>\n",
       "      <td>0</td>\n",
       "      <td>14132019</td>\n",
       "      <td>38.438</td>\n",
       "      <td>7.7000</td>\n",
       "    </tr>\n",
       "    <tr>\n",
       "      <th>...</th>\n",
       "      <td>...</td>\n",
       "      <td>...</td>\n",
       "      <td>...</td>\n",
       "      <td>...</td>\n",
       "      <td>...</td>\n",
       "      <td>...</td>\n",
       "    </tr>\n",
       "    <tr>\n",
       "      <th>688</th>\n",
       "      <td>1985</td>\n",
       "      <td>Venezuela</td>\n",
       "      <td>3</td>\n",
       "      <td>16997509</td>\n",
       "      <td>70.190</td>\n",
       "      <td>3.6485</td>\n",
       "    </tr>\n",
       "    <tr>\n",
       "      <th>689</th>\n",
       "      <td>1990</td>\n",
       "      <td>Venezuela</td>\n",
       "      <td>3</td>\n",
       "      <td>19325222</td>\n",
       "      <td>71.150</td>\n",
       "      <td>3.2500</td>\n",
       "    </tr>\n",
       "    <tr>\n",
       "      <th>690</th>\n",
       "      <td>1995</td>\n",
       "      <td>Venezuela</td>\n",
       "      <td>3</td>\n",
       "      <td>21555902</td>\n",
       "      <td>72.146</td>\n",
       "      <td>2.9415</td>\n",
       "    </tr>\n",
       "    <tr>\n",
       "      <th>691</th>\n",
       "      <td>2000</td>\n",
       "      <td>Venezuela</td>\n",
       "      <td>3</td>\n",
       "      <td>23542649</td>\n",
       "      <td>72.766</td>\n",
       "      <td>2.7230</td>\n",
       "    </tr>\n",
       "    <tr>\n",
       "      <th>692</th>\n",
       "      <td>2005</td>\n",
       "      <td>Venezuela</td>\n",
       "      <td>3</td>\n",
       "      <td>25375281</td>\n",
       "      <td>73.747</td>\n",
       "      <td>2.5470</td>\n",
       "    </tr>\n",
       "  </tbody>\n",
       "</table>\n",
       "<p>693 rows × 6 columns</p>\n",
       "</div>"
      ],
      "text/plain": [
       "     year      country  cluster       pop  life_expect  fertility\n",
       "0    1955  Afghanistan        0   8891209       30.332     7.7000\n",
       "1    1960  Afghanistan        0   9829450       31.997     7.7000\n",
       "2    1965  Afghanistan        0  10997885       34.020     7.7000\n",
       "3    1970  Afghanistan        0  12430623       36.088     7.7000\n",
       "4    1975  Afghanistan        0  14132019       38.438     7.7000\n",
       "..    ...          ...      ...       ...          ...        ...\n",
       "688  1985    Venezuela        3  16997509       70.190     3.6485\n",
       "689  1990    Venezuela        3  19325222       71.150     3.2500\n",
       "690  1995    Venezuela        3  21555902       72.146     2.9415\n",
       "691  2000    Venezuela        3  23542649       72.766     2.7230\n",
       "692  2005    Venezuela        3  25375281       73.747     2.5470\n",
       "\n",
       "[693 rows x 6 columns]"
      ]
     },
     "execution_count": 18,
     "metadata": {},
     "output_type": "execute_result"
    }
   ],
   "source": [
    "data"
   ]
  },
  {
   "cell_type": "code",
   "execution_count": 19,
   "metadata": {
    "azdata_cell_guid": "c5d5c2da-e03a-4369-9324-3f7a07097d6c"
   },
   "outputs": [],
   "source": [
    "mis_paises = ['Dominican Republic', 'Mexico', 'Peru']"
   ]
  },
  {
   "cell_type": "code",
   "execution_count": null,
   "metadata": {
    "azdata_cell_guid": "d5343f4d-f1cd-447f-8b84-7a3b277cdcab"
   },
   "outputs": [],
   "source": [
    "datos_de_mis_paises = data[data['country'].isin(mis_paises)]"
   ]
  },
  {
   "cell_type": "code",
   "execution_count": 23,
   "metadata": {
    "azdata_cell_guid": "73f470d2-8963-4f9f-9c1c-8a238134e821"
   },
   "outputs": [
    {
     "data": {
      "text/html": [
       "\n",
       "<div id=\"altair-viz-c3de2f69e3194b1c87b26463d6fe9942\"></div>\n",
       "<script type=\"text/javascript\">\n",
       "  (function(spec, embedOpt){\n",
       "    let outputDiv = document.currentScript.previousElementSibling;\n",
       "    if (outputDiv.id !== \"altair-viz-c3de2f69e3194b1c87b26463d6fe9942\") {\n",
       "      outputDiv = document.getElementById(\"altair-viz-c3de2f69e3194b1c87b26463d6fe9942\");\n",
       "    }\n",
       "    const paths = {\n",
       "      \"vega\": \"https://cdn.jsdelivr.net/npm//vega@5?noext\",\n",
       "      \"vega-lib\": \"https://cdn.jsdelivr.net/npm//vega-lib?noext\",\n",
       "      \"vega-lite\": \"https://cdn.jsdelivr.net/npm//vega-lite@4.17.0?noext\",\n",
       "      \"vega-embed\": \"https://cdn.jsdelivr.net/npm//vega-embed@6?noext\",\n",
       "    };\n",
       "\n",
       "    function loadScript(lib) {\n",
       "      return new Promise(function(resolve, reject) {\n",
       "        var s = document.createElement('script');\n",
       "        s.src = paths[lib];\n",
       "        s.async = true;\n",
       "        s.onload = () => resolve(paths[lib]);\n",
       "        s.onerror = () => reject(`Error loading script: ${paths[lib]}`);\n",
       "        document.getElementsByTagName(\"head\")[0].appendChild(s);\n",
       "      });\n",
       "    }\n",
       "\n",
       "    function showError(err) {\n",
       "      outputDiv.innerHTML = `<div class=\"error\" style=\"color:red;\">${err}</div>`;\n",
       "      throw err;\n",
       "    }\n",
       "\n",
       "    function displayChart(vegaEmbed) {\n",
       "      vegaEmbed(outputDiv, spec, embedOpt)\n",
       "        .catch(err => showError(`Javascript Error: ${err.message}<br>This usually means there's a typo in your chart specification. See the javascript console for the full traceback.`));\n",
       "    }\n",
       "\n",
       "    if(typeof define === \"function\" && define.amd) {\n",
       "      requirejs.config({paths});\n",
       "      require([\"vega-embed\"], displayChart, err => showError(`Error loading script: ${err.message}`));\n",
       "    } else if (typeof vegaEmbed === \"function\") {\n",
       "      displayChart(vegaEmbed);\n",
       "    } else {\n",
       "      loadScript(\"vega\")\n",
       "        .then(() => loadScript(\"vega-lite\"))\n",
       "        .then(() => loadScript(\"vega-embed\"))\n",
       "        .catch(showError)\n",
       "        .then(() => displayChart(vegaEmbed));\n",
       "    }\n",
       "  })({\"config\": {\"view\": {\"continuousWidth\": 400, \"continuousHeight\": 300, \"strokeWidth\": 0}, \"title\": {\"anchor\": \"start\", \"fontSize\": 18}}, \"data\": {\"name\": \"data-770b3d086a91db23f6fc5318027f60d1\"}, \"mark\": {\"type\": \"bar\", \"fill\": \"#D47AE8\"}, \"encoding\": {\"column\": {\"field\": \"country\", \"title\": \"Mis paises\", \"type\": \"nominal\"}, \"tooltip\": [{\"field\": \"country\", \"title\": \"Pa\\u00eds\", \"type\": \"nominal\"}, {\"field\": \"year\", \"title\": \"A\\u00f1o\", \"type\": \"ordinal\"}, {\"field\": \"pop\", \"format\": \",.4s\", \"title\": \"Poblaci\\u00f3n\", \"type\": \"quantitative\"}], \"x\": {\"axis\": {\"labelAngle\": 0, \"labelFontSize\": 12}, \"field\": \"year\", \"title\": \"\", \"type\": \"ordinal\"}, \"y\": {\"axis\": {\"format\": \".2s\", \"grid\": false, \"titleAnchor\": \"end\", \"titleAngle\": 0}, \"field\": \"pop\", \"title\": \"Poblaci\\u00f3n\", \"type\": \"quantitative\"}}, \"title\": \"poblacion de mis paises favoritos\", \"width\": 340, \"$schema\": \"https://vega.github.io/schema/vega-lite/v4.17.0.json\", \"datasets\": {\"data-770b3d086a91db23f6fc5318027f60d1\": [{\"year\": 1955, \"country\": \"Dominican Republic\", \"cluster\": 3, \"pop\": 2737257, \"life_expect\": 49.828, \"fertility\": 7.6405}, {\"year\": 1960, \"country\": \"Dominican Republic\", \"cluster\": 3, \"pop\": 3231488, \"life_expect\": 53.459, \"fertility\": 7.3505}, {\"year\": 1965, \"country\": \"Dominican Republic\", \"cluster\": 3, \"pop\": 3805881, \"life_expect\": 56.751, \"fertility\": 6.6495}, {\"year\": 1970, \"country\": \"Dominican Republic\", \"cluster\": 3, \"pop\": 4422755, \"life_expect\": 59.631, \"fertility\": 5.71}, {\"year\": 1975, \"country\": \"Dominican Republic\", \"cluster\": 3, \"pop\": 5048499, \"life_expect\": 61.788, \"fertility\": 4.76}, {\"year\": 1980, \"country\": \"Dominican Republic\", \"cluster\": 3, \"pop\": 5696855, \"life_expect\": 63.727, \"fertility\": 4.0}, {\"year\": 1985, \"country\": \"Dominican Republic\", \"cluster\": 3, \"pop\": 6377765, \"life_expect\": 66.046, \"fertility\": 3.47}, {\"year\": 1990, \"country\": \"Dominican Republic\", \"cluster\": 3, \"pop\": 7077651, \"life_expect\": 68.457, \"fertility\": 3.1995}, {\"year\": 1995, \"country\": \"Dominican Republic\", \"cluster\": 3, \"pop\": 7730224, \"life_expect\": 69.957, \"fertility\": 3.05}, {\"year\": 2000, \"country\": \"Dominican Republic\", \"cluster\": 3, \"pop\": 8385828, \"life_expect\": 70.847, \"fertility\": 2.95}, {\"year\": 2005, \"country\": \"Dominican Republic\", \"cluster\": 3, \"pop\": 9049595, \"life_expect\": 72.235, \"fertility\": 2.81}, {\"year\": 1955, \"country\": \"Mexico\", \"cluster\": 3, \"pop\": 32929914, \"life_expect\": 55.19, \"fertility\": 6.8}, {\"year\": 1960, \"country\": \"Mexico\", \"cluster\": 3, \"pop\": 38578505, \"life_expect\": 58.299, \"fertility\": 6.7495}, {\"year\": 1965, \"country\": \"Mexico\", \"cluster\": 3, \"pop\": 45142399, \"life_expect\": 60.11, \"fertility\": 6.7495}, {\"year\": 1970, \"country\": \"Mexico\", \"cluster\": 3, \"pop\": 52775158, \"life_expect\": 62.361, \"fertility\": 6.5}, {\"year\": 1975, \"country\": \"Mexico\", \"cluster\": 3, \"pop\": 60678045, \"life_expect\": 65.032, \"fertility\": 5.2505}, {\"year\": 1980, \"country\": \"Mexico\", \"cluster\": 3, \"pop\": 68347479, \"life_expect\": 67.405, \"fertility\": 4.25}, {\"year\": 1985, \"country\": \"Mexico\", \"cluster\": 3, \"pop\": 76767225, \"life_expect\": 69.498, \"fertility\": 3.6295}, {\"year\": 1990, \"country\": \"Mexico\", \"cluster\": 3, \"pop\": 84913652, \"life_expect\": 71.455, \"fertility\": 3.1905}, {\"year\": 1995, \"country\": \"Mexico\", \"cluster\": 3, \"pop\": 92880353, \"life_expect\": 73.67, \"fertility\": 2.6705}, {\"year\": 2000, \"country\": \"Mexico\", \"cluster\": 3, \"pop\": 99926620, \"life_expect\": 74.902, \"fertility\": 2.4005}, {\"year\": 2005, \"country\": \"Mexico\", \"cluster\": 3, \"pop\": 106202903, \"life_expect\": 76.195, \"fertility\": 2.211}, {\"year\": 1955, \"country\": \"Peru\", \"cluster\": 3, \"pop\": 8671500, \"life_expect\": 46.263, \"fertility\": 6.853}, {\"year\": 1960, \"country\": \"Peru\", \"cluster\": 3, \"pop\": 9931000, \"life_expect\": 49.096, \"fertility\": 6.853}, {\"year\": 1965, \"country\": \"Peru\", \"cluster\": 3, \"pop\": 11467300, \"life_expect\": 51.445, \"fertility\": 6.5600000000000005}, {\"year\": 1970, \"country\": \"Peru\", \"cluster\": 3, \"pop\": 13192800, \"life_expect\": 55.448, \"fertility\": 6.0}, {\"year\": 1975, \"country\": \"Peru\", \"cluster\": 3, \"pop\": 15161199, \"life_expect\": 58.447, \"fertility\": 5.378}, {\"year\": 1980, \"country\": \"Peru\", \"cluster\": 3, \"pop\": 17295298, \"life_expect\": 61.406, \"fertility\": 4.65}, {\"year\": 1985, \"country\": \"Peru\", \"cluster\": 3, \"pop\": 19348926, \"life_expect\": 64.134, \"fertility\": 4.1}, {\"year\": 1990, \"country\": \"Peru\", \"cluster\": 3, \"pop\": 21511443, \"life_expect\": 66.458, \"fertility\": 3.7}, {\"year\": 1995, \"country\": \"Peru\", \"cluster\": 3, \"pop\": 23846388, \"life_expect\": 68.386, \"fertility\": 3.0995}, {\"year\": 2000, \"country\": \"Peru\", \"cluster\": 3, \"pop\": 25979722, \"life_expect\": 69.906, \"fertility\": 2.7005}, {\"year\": 2005, \"country\": \"Peru\", \"cluster\": 3, \"pop\": 27925628, \"life_expect\": 71.421, \"fertility\": 2.5065}]}}, {\"mode\": \"vega-lite\"});\n",
       "</script>"
      ],
      "text/plain": [
       "alt.Chart(...)"
      ]
     },
     "execution_count": 23,
     "metadata": {},
     "output_type": "execute_result"
    }
   ],
   "source": [
    "alt.Chart(datos_de_mis_paises).mark_bar(fill = '#D47AE8').encode(\n",
    "    x = alt.X('year:O', title = '', axis = alt.Axis(labelAngle=0, labelFontSize=12)),\n",
    "    y = alt.Y('pop:Q', title = 'Población', axis = alt.Axis(format = \".2s\", grid=False, titleAnchor='end', titleAngle = 0)),\n",
    "    column = alt.Column('country',title = 'Mis paises', ), \n",
    "    tooltip = [alt.Tooltip('country', title = 'País',), alt.Tooltip('year:O', title = 'Año'), alt.Tooltip('pop:Q', format = ',.4s', title = 'Población'), ],\n",
    ").properties(\n",
    "    title = 'poblacion de mis paises favoritos',\n",
    "    width = 340,\n",
    ").configure_title(\n",
    "    fontSize = 18,\n",
    "    anchor = 'start',\n",
    ").configure_view(\n",
    "    strokeWidth=0\n",
    ")"
   ]
  },
  {
   "cell_type": "code",
   "execution_count": null,
   "metadata": {
    "azdata_cell_guid": "7af697a4-d800-4fef-8ae6-37c66178a965"
   },
   "outputs": [],
   "source": []
  }
 ],
 "metadata": {
  "kernelspec": {
   "display_name": "Python 3 (ipykernel)",
   "language": "python",
   "name": "python3"
  },
  "language_info": {
   "codemirror_mode": {
    "name": "ipython",
    "version": 3
   },
   "file_extension": ".py",
   "mimetype": "text/x-python",
   "name": "python",
   "nbconvert_exporter": "python",
   "pygments_lexer": "ipython3",
   "version": "3.10.0"
  }
 },
 "nbformat": 4,
 "nbformat_minor": 4
}
